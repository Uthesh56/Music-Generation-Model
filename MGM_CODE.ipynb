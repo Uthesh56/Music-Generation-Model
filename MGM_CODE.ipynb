{
 "cells": [
  {
   "cell_type": "markdown",
   "id": "6dc4fde8",
   "metadata": {},
   "source": [
    "<p style=\"text-align:center; font-size:155%;color:red;\"><strong>MUSIC GENERATION MODEL</strong></p>\n",
    "\n"
   ]
  },
  {
   "cell_type": "markdown",
   "id": "c5c15071",
   "metadata": {},
   "source": [
    "<p style=\"text-align:center; font-size:155%\"><strong>UTHESH GANAPATHY E</strong></p>\n"
   ]
  },
  {
   "cell_type": "code",
   "execution_count": null,
   "id": "4a956505",
   "metadata": {},
   "outputs": [],
   "source": []
  },
  {
   "cell_type": "markdown",
   "id": "c0e1005f",
   "metadata": {},
   "source": [
    "## IMPORTING  MUSIC LIBRARY"
   ]
  },
  {
   "cell_type": "code",
   "execution_count": 1,
   "id": "c1ab45b0",
   "metadata": {},
   "outputs": [
    {
     "name": "stderr",
     "output_type": "stream",
     "text": [
      "c:\\users\\hariharan\\appdata\\local\\programs\\python\\python39\\lib\\site-packages\\requests\\__init__.py:102: RequestsDependencyWarning: urllib3 (1.26.7) or chardet (5.1.0)/charset_normalizer (2.0.6) doesn't match a supported version!\n",
      "  warnings.warn(\"urllib3 ({}) or chardet ({})/charset_normalizer ({}) doesn't match a supported \"\n"
     ]
    }
   ],
   "source": [
    "from music21 import*\n",
    "import warnings\n",
    "warnings.filterwarnings('ignore')"
   ]
  },
  {
   "cell_type": "markdown",
   "id": "edce888c",
   "metadata": {},
   "source": [
    "## DEFINE FUNCTION TO READ MIDI FILES"
   ]
  },
  {
   "cell_type": "code",
   "execution_count": 2,
   "id": "5296394a",
   "metadata": {},
   "outputs": [],
   "source": [
    " def read_midi(file):\n",
    "    \n",
    "    print(\"LOADING:\",file)\n",
    "    notes=[]\n",
    "    notes_to_parse = None\n",
    "    \n",
    "    # PARSING A MIDI FILE\n",
    "    midi = converter.parse(file)\n",
    "    \n",
    "    #GROUPING INSTRUMENTS\n",
    "    s2 = instrument.partitionByInstrument(midi)\n",
    "    \n",
    "    for part in s2.parts:\n",
    "        if 'Piano' in str(part): \n",
    "            notes_to_parse = part.recurse() \n",
    "            for element in notes_to_parse:\n",
    "                \n",
    "                #SELECTING ONLY NOTES\n",
    "                if isinstance(element, note.Note):\n",
    "                    notes.append(str(element.pitch))\n",
    "                \n",
    "                #SELECTING ONLY CHORDS\n",
    "                elif isinstance(element, chord.Chord):\n",
    "                    notes.append('.'.join(str(n) for n in element.normalOrder))\n",
    "\n",
    "    return np.array(notes)"
   ]
  },
  {
   "cell_type": "markdown",
   "id": "98ccf1ac",
   "metadata": {},
   "source": [
    "## LOADING MIDI FILES"
   ]
  },
  {
   "cell_type": "code",
   "execution_count": 3,
   "id": "f453e46d",
   "metadata": {},
   "outputs": [
    {
     "name": "stdout",
     "output_type": "stream",
     "text": [
      "LOADING: C:\\Users\\Hariharan\\HAYDN/haydn_33_1.mid\n",
      "LOADING: C:\\Users\\Hariharan\\HAYDN/haydn_33_2.mid\n",
      "LOADING: C:\\Users\\Hariharan\\HAYDN/haydn_33_3.mid\n",
      "LOADING: C:\\Users\\Hariharan\\HAYDN/haydn_35_1.mid\n",
      "LOADING: C:\\Users\\Hariharan\\HAYDN/haydn_35_2.mid\n",
      "LOADING: C:\\Users\\Hariharan\\HAYDN/haydn_35_3.mid\n",
      "LOADING: C:\\Users\\Hariharan\\HAYDN/haydn_43_1.mid\n",
      "LOADING: C:\\Users\\Hariharan\\HAYDN/haydn_43_2.mid\n",
      "LOADING: C:\\Users\\Hariharan\\HAYDN/haydn_43_3.mid\n",
      "LOADING: C:\\Users\\Hariharan\\HAYDN/haydn_7_1.mid\n",
      "LOADING: C:\\Users\\Hariharan\\HAYDN/haydn_7_2.mid\n",
      "LOADING: C:\\Users\\Hariharan\\HAYDN/haydn_7_3.mid\n",
      "LOADING: C:\\Users\\Hariharan\\HAYDN/haydn_8_1.mid\n",
      "LOADING: C:\\Users\\Hariharan\\HAYDN/haydn_8_2.mid\n",
      "LOADING: C:\\Users\\Hariharan\\HAYDN/haydn_8_3.mid\n",
      "LOADING: C:\\Users\\Hariharan\\HAYDN/haydn_8_4.mid\n",
      "LOADING: C:\\Users\\Hariharan\\HAYDN/haydn_9_1.mid\n",
      "LOADING: C:\\Users\\Hariharan\\HAYDN/haydn_9_2.mid\n",
      "LOADING: C:\\Users\\Hariharan\\HAYDN/haydn_9_3.mid\n",
      "LOADING: C:\\Users\\Hariharan\\HAYDN/hay_40_1.mid\n",
      "LOADING: C:\\Users\\Hariharan\\HAYDN/hay_40_2.mid\n"
     ]
    }
   ],
   "source": [
    "import os\n",
    "import numpy as np\n",
    "\n",
    "path= r'C:\\Users\\Hariharan\\HAYDN/'\n",
    "files=[i for i in os.listdir(path) if i.endswith(\".mid\")]\n",
    "notes_array = np.array([read_midi(path+i) for i in files])"
   ]
  },
  {
   "cell_type": "markdown",
   "id": "0c805934",
   "metadata": {},
   "source": [
    "## FINDING NO OF UNIQUE NOTES"
   ]
  },
  {
   "cell_type": "code",
   "execution_count": 4,
   "id": "8ce9ce77",
   "metadata": {},
   "outputs": [
    {
     "name": "stdout",
     "output_type": "stream",
     "text": [
      "179\n"
     ]
    }
   ],
   "source": [
    "# CONVERTING 2D INTO 1D ARRAY\n",
    "\n",
    "notes_ = [element for note_ in notes_array for element in note_]\n",
    "unique_notes = list(set(notes_))\n",
    "print(len(unique_notes))"
   ]
  },
  {
   "cell_type": "markdown",
   "id": "e6894047",
   "metadata": {},
   "source": [
    "## FINDING THE NOTES HAVING MORE FREQUENCY"
   ]
  },
  {
   "cell_type": "code",
   "execution_count": 5,
   "id": "7a69b47a",
   "metadata": {},
   "outputs": [
    {
     "data": {
      "text/plain": [
       "(array([134.,  14.,  12.,   5.,   6.,   2.,   0.,   3.,   2.,   1.]),\n",
       " array([1.0000e+00, 1.4580e+02, 2.9060e+02, 4.3540e+02, 5.8020e+02,\n",
       "        7.2500e+02, 8.6980e+02, 1.0146e+03, 1.1594e+03, 1.3042e+03,\n",
       "        1.4490e+03]),\n",
       " <BarContainer object of 10 artists>)"
      ]
     },
     "execution_count": 5,
     "metadata": {},
     "output_type": "execute_result"
    },
    {
     "data": {
      "image/png": "[encoded data removed]",
      "text/plain": [
       "<Figure size 360x360 with 1 Axes>"
      ]
     },
     "metadata": {
      "image/png": {
       "height": 305,
       "width": 319
      },
      "needs_background": "light"
     },
     "output_type": "display_data"
    }
   ],
   "source": [
    "from collections import Counter\n",
    "freq = dict(Counter(notes_))\n",
    "\n",
    "import matplotlib.pyplot as plt\n",
    "no=[count for _,count in freq.items()]\n",
    "plt.figure(figsize=(5,5))\n",
    "plt.hist(no)"
   ]
  },
  {
   "cell_type": "markdown",
   "id": "a798536a",
   "metadata": {},
   "source": [
    "## REMOVING THE NOTES HAVING LESS FREQUENCY"
   ]
  },
  {
   "cell_type": "code",
   "execution_count": 14,
   "id": "db3a1129",
   "metadata": {},
   "outputs": [
    {
     "name": "stdout",
     "output_type": "stream",
     "text": [
      "75\n"
     ]
    }
   ],
   "source": [
    "Frequent_notes = [note_ for note_, count in freq.items() if count>=50]\n",
    "New_notes=[[i for i in j if i in Frequent_notes] for j in notes_array]\n",
    "print(len(Frequent_notes))\n",
    "\n"
   ]
  },
  {
   "cell_type": "markdown",
   "id": "6bbec38d",
   "metadata": {},
   "source": [
    "## STORING THE NOTES HAVING HIGHER FREQUENCY IN DICTIONARY"
   ]
  },
  {
   "cell_type": "code",
   "execution_count": 11,
   "id": "004524ee",
   "metadata": {},
   "outputs": [],
   "source": [
    "Index_Notes = dict(enumerate(frequent_notes))\n",
    "Notes_Index = dict(map(reversed,Index_Notes.items()))"
   ]
  },
  {
   "cell_type": "code",
   "execution_count": 15,
   "id": "d4caa81c",
   "metadata": {},
   "outputs": [],
   "source": [
    "timesteps = 30\n",
    "x=[]\n",
    "y=[]\n",
    "\n",
    "for i in New_notes:\n",
    "    for j in range(0,len(i)-timesteps):\n",
    "        inp=i[j:j+timesteps] ; out=i[j+timesteps]\n",
    "        x.append(list(map(lambda x:Notes_Index[x],inp)))\n",
    "        y.append(Notes_Index[out])\n",
    "\n",
    "x_new=np.array(x)\n",
    "y_new=np.array(y)"
   ]
  },
  {
   "cell_type": "markdown",
   "id": "5f0f967a",
   "metadata": {},
   "source": [
    "## TRAINING AND TESTING"
   ]
  },
  {
   "cell_type": "code",
   "execution_count": 16,
   "id": "bdfb3d03",
   "metadata": {},
   "outputs": [],
   "source": [
    "from sklearn.model_selection import train_test_split\n",
    "x_new = np.reshape(x_new,(len(x_new),timesteps,1))\n",
    "y_new = np.reshape(y_new,(-1,1))\n",
    "x_train,x_test,y_train,y_test = train_test_split(x_new,y_new,test_size=0.2,random_state=42)"
   ]
  },
  {
   "cell_type": "markdown",
   "id": "ab587277",
   "metadata": {},
   "source": [
    "## MODEL: <span style=\"color:red\">LONG SHORT TERM MEMORY</span>\n"
   ]
  },
  {
   "cell_type": "code",
   "execution_count": 18,
   "id": "7c35afd5",
   "metadata": {},
   "outputs": [
    {
     "name": "stdout",
     "output_type": "stream",
     "text": [
      "Model: \"sequential_1\"\n",
      "_________________________________________________________________\n",
      " Layer (type)                Output Shape              Param #   \n",
      "=================================================================\n",
      " lstm_2 (LSTM)               (None, 30, 256)           264192    \n",
      "                                                                 \n",
      " dropout_2 (Dropout)         (None, 30, 256)           0         \n",
      "                                                                 \n",
      " lstm_3 (LSTM)               (None, 256)               525312    \n",
      "                                                                 \n",
      " dropout_3 (Dropout)         (None, 256)               0         \n",
      "                                                                 \n",
      " dense_1 (Dense)             (None, 256)               65792     \n",
      "                                                                 \n",
      " dense_2 (Dense)             (None, 75)                19275     \n",
      "                                                                 \n",
      "=================================================================\n",
      "Total params: 874,571\n",
      "Trainable params: 874,571\n",
      "Non-trainable params: 0\n",
      "_________________________________________________________________\n"
     ]
    }
   ],
   "source": [
    "from tensorflow.keras.layers import LSTM,Dense,Input,Dropout,Activation\n",
    "from tensorflow.keras.models import Sequential,Model,load_model\n",
    "model = Sequential()\n",
    "model.add(LSTM(256,return_sequences=True,input_shape=(x_new.shape[1],x_new.shape[2])))\n",
    "model.add(Dropout(0.2))\n",
    "model.add(LSTM(256))\n",
    "model.add(Dropout(0.2))\n",
    "model.add(Dense(256,activation='relu'))\n",
    "model.add(Dense(len(Notes_Index),activation='softmax'))\n",
    "model.summary()"
   ]
  },
  {
   "cell_type": "markdown",
   "id": "62f46a6e",
   "metadata": {},
   "source": [
    "## COMPILING THE MODEL TO GENERATE MUSIC"
   ]
  },
  {
   "cell_type": "code",
   "execution_count": 19,
   "id": "07a3dd69",
   "metadata": {},
   "outputs": [],
   "source": [
    "model.compile(loss='sparse_categorical_crossentropy', optimizer='adam',metrics=['accuracy'])\n"
   ]
  },
  {
   "cell_type": "markdown",
   "id": "fe8687e3",
   "metadata": {},
   "source": [
    "## FIT THE MODEL"
   ]
  },
  {
   "cell_type": "code",
   "execution_count": 20,
   "id": "1f3be1e3",
   "metadata": {},
   "outputs": [
    {
     "name": "stdout",
     "output_type": "stream",
     "text": [
      "Epoch 1/100\n",
      "159/159 [==============================] - 91s 481ms/step - loss: 3.8280 - accuracy: 0.0645 - val_loss: 3.7570 - val_accuracy: 0.0664\n",
      "Epoch 2/100\n",
      "159/159 [==============================] - 72s 451ms/step - loss: 3.6987 - accuracy: 0.0713 - val_loss: 3.6863 - val_accuracy: 0.0765\n",
      "Epoch 3/100\n",
      "159/159 [==============================] - 71s 446ms/step - loss: 3.6241 - accuracy: 0.0836 - val_loss: 3.6271 - val_accuracy: 0.0866\n",
      "Epoch 4/100\n",
      "159/159 [==============================] - 71s 444ms/step - loss: 3.5582 - accuracy: 0.0930 - val_loss: 3.5784 - val_accuracy: 0.0962\n",
      "Epoch 5/100\n",
      "159/159 [==============================] - 70s 442ms/step - loss: 3.4693 - accuracy: 0.1114 - val_loss: 3.4963 - val_accuracy: 0.1117\n",
      "Epoch 6/100\n",
      "159/159 [==============================] - 71s 444ms/step - loss: 3.3705 - accuracy: 0.1284 - val_loss: 3.4208 - val_accuracy: 0.1268\n",
      "Epoch 7/100\n",
      "159/159 [==============================] - 71s 444ms/step - loss: 3.2454 - accuracy: 0.1554 - val_loss: 3.3298 - val_accuracy: 0.1438\n",
      "Epoch 8/100\n",
      "159/159 [==============================] - 71s 446ms/step - loss: 3.1065 - accuracy: 0.1843 - val_loss: 3.2079 - val_accuracy: 0.1735\n",
      "Epoch 9/100\n",
      "159/159 [==============================] - 70s 443ms/step - loss: 2.9284 - accuracy: 0.2222 - val_loss: 3.0989 - val_accuracy: 0.1930\n",
      "Epoch 10/100\n",
      "159/159 [==============================] - 71s 444ms/step - loss: 2.7607 - accuracy: 0.2555 - val_loss: 2.9824 - val_accuracy: 0.2192\n",
      "Epoch 11/100\n",
      "159/159 [==============================] - 72s 450ms/step - loss: 2.5800 - accuracy: 0.2930 - val_loss: 2.8745 - val_accuracy: 0.2354\n",
      "Epoch 12/100\n",
      "159/159 [==============================] - 71s 448ms/step - loss: 2.3952 - accuracy: 0.3376 - val_loss: 2.7613 - val_accuracy: 0.2716\n",
      "Epoch 13/100\n",
      "159/159 [==============================] - 77s 482ms/step - loss: 2.2205 - accuracy: 0.3841 - val_loss: 2.6824 - val_accuracy: 0.2939\n",
      "Epoch 14/100\n",
      "159/159 [==============================] - 77s 483ms/step - loss: 2.0453 - accuracy: 0.4275 - val_loss: 2.5871 - val_accuracy: 0.3247\n",
      "Epoch 15/100\n",
      "159/159 [==============================] - 77s 487ms/step - loss: 1.8827 - accuracy: 0.4676 - val_loss: 2.4692 - val_accuracy: 0.3616\n",
      "Epoch 16/100\n",
      "159/159 [==============================] - 74s 467ms/step - loss: 1.7299 - accuracy: 0.5058 - val_loss: 2.4078 - val_accuracy: 0.3842\n",
      "Epoch 17/100\n",
      "159/159 [==============================] - 79s 497ms/step - loss: 1.6035 - accuracy: 0.5410 - val_loss: 2.3686 - val_accuracy: 0.4037\n",
      "Epoch 18/100\n",
      "159/159 [==============================] - 74s 466ms/step - loss: 1.4717 - accuracy: 0.5735 - val_loss: 2.2628 - val_accuracy: 0.4347\n",
      "Epoch 19/100\n",
      "159/159 [==============================] - 76s 478ms/step - loss: 1.3464 - accuracy: 0.6067 - val_loss: 2.2213 - val_accuracy: 0.4594\n",
      "Epoch 20/100\n",
      "159/159 [==============================] - 76s 480ms/step - loss: 1.2378 - accuracy: 0.6405 - val_loss: 2.1663 - val_accuracy: 0.4764\n",
      "Epoch 21/100\n",
      "159/159 [==============================] - 73s 456ms/step - loss: 1.1343 - accuracy: 0.6699 - val_loss: 2.1184 - val_accuracy: 0.4982\n",
      "Epoch 22/100\n",
      "159/159 [==============================] - 70s 443ms/step - loss: 1.0581 - accuracy: 0.6924 - val_loss: 2.0656 - val_accuracy: 0.5185\n",
      "Epoch 23/100\n",
      "159/159 [==============================] - 71s 448ms/step - loss: 0.9753 - accuracy: 0.7116 - val_loss: 2.0652 - val_accuracy: 0.5353\n",
      "Epoch 24/100\n",
      "159/159 [==============================] - 72s 451ms/step - loss: 0.9061 - accuracy: 0.7297 - val_loss: 2.0273 - val_accuracy: 0.5504\n",
      "Epoch 25/100\n",
      "159/159 [==============================] - 72s 455ms/step - loss: 0.8415 - accuracy: 0.7469 - val_loss: 1.9849 - val_accuracy: 0.5709\n",
      "Epoch 26/100\n",
      "159/159 [==============================] - 77s 481ms/step - loss: 0.7723 - accuracy: 0.7677 - val_loss: 2.0056 - val_accuracy: 0.5844\n",
      "Epoch 27/100\n",
      "159/159 [==============================] - 74s 468ms/step - loss: 0.7382 - accuracy: 0.7745 - val_loss: 1.9513 - val_accuracy: 0.5934\n",
      "Epoch 28/100\n",
      "159/159 [==============================] - 71s 445ms/step - loss: 0.6671 - accuracy: 0.7962 - val_loss: 2.0063 - val_accuracy: 0.5978\n",
      "Epoch 29/100\n",
      "159/159 [==============================] - 71s 445ms/step - loss: 0.6307 - accuracy: 0.8090 - val_loss: 1.9650 - val_accuracy: 0.6118\n",
      "Epoch 30/100\n",
      "159/159 [==============================] - 70s 443ms/step - loss: 0.5883 - accuracy: 0.8211 - val_loss: 1.9406 - val_accuracy: 0.6332\n",
      "Epoch 31/100\n",
      "159/159 [==============================] - 71s 447ms/step - loss: 0.5635 - accuracy: 0.8278 - val_loss: 1.9586 - val_accuracy: 0.6345\n",
      "Epoch 32/100\n",
      "159/159 [==============================] - 71s 444ms/step - loss: 0.5388 - accuracy: 0.8301 - val_loss: 1.9276 - val_accuracy: 0.6416\n",
      "Epoch 33/100\n",
      "159/159 [==============================] - 71s 449ms/step - loss: 0.4876 - accuracy: 0.8499 - val_loss: 1.9642 - val_accuracy: 0.6439\n",
      "Epoch 34/100\n",
      "159/159 [==============================] - 72s 455ms/step - loss: 0.4683 - accuracy: 0.8544 - val_loss: 1.9710 - val_accuracy: 0.6472\n",
      "Epoch 35/100\n",
      "159/159 [==============================] - 71s 446ms/step - loss: 0.4537 - accuracy: 0.8564 - val_loss: 1.9659 - val_accuracy: 0.6615\n",
      "Epoch 36/100\n",
      "159/159 [==============================] - 68s 428ms/step - loss: 0.4255 - accuracy: 0.8653 - val_loss: 1.9990 - val_accuracy: 0.6615\n",
      "Epoch 37/100\n",
      "159/159 [==============================] - 70s 439ms/step - loss: 0.4017 - accuracy: 0.8741 - val_loss: 2.0333 - val_accuracy: 0.6556\n",
      "Epoch 38/100\n",
      "159/159 [==============================] - 71s 447ms/step - loss: 0.3885 - accuracy: 0.8802 - val_loss: 2.0285 - val_accuracy: 0.6602\n",
      "Epoch 39/100\n",
      "159/159 [==============================] - 70s 443ms/step - loss: 0.3743 - accuracy: 0.8814 - val_loss: 2.0158 - val_accuracy: 0.6667\n",
      "Epoch 40/100\n",
      "159/159 [==============================] - 71s 445ms/step - loss: 0.3688 - accuracy: 0.8830 - val_loss: 2.0520 - val_accuracy: 0.6653\n",
      "Epoch 41/100\n",
      "159/159 [==============================] - 70s 443ms/step - loss: 0.3435 - accuracy: 0.8907 - val_loss: 2.0542 - val_accuracy: 0.6676\n",
      "Epoch 42/100\n",
      "159/159 [==============================] - 70s 443ms/step - loss: 0.3465 - accuracy: 0.8918 - val_loss: 2.0864 - val_accuracy: 0.6676\n",
      "Epoch 43/100\n",
      "159/159 [==============================] - 70s 443ms/step - loss: 0.3210 - accuracy: 0.8992 - val_loss: 2.1102 - val_accuracy: 0.6755\n",
      "Epoch 44/100\n",
      "159/159 [==============================] - 71s 446ms/step - loss: 0.2962 - accuracy: 0.9071 - val_loss: 2.1266 - val_accuracy: 0.6734\n",
      "Epoch 45/100\n",
      "159/159 [==============================] - 71s 444ms/step - loss: 0.2966 - accuracy: 0.9049 - val_loss: 2.1499 - val_accuracy: 0.6739\n",
      "Epoch 46/100\n",
      "159/159 [==============================] - 68s 427ms/step - loss: 0.2923 - accuracy: 0.9078 - val_loss: 2.1573 - val_accuracy: 0.6749\n",
      "Epoch 47/100\n",
      "159/159 [==============================] - 69s 437ms/step - loss: 0.3082 - accuracy: 0.9007 - val_loss: 2.1291 - val_accuracy: 0.6753\n",
      "Epoch 48/100\n",
      "159/159 [==============================] - 71s 444ms/step - loss: 0.2752 - accuracy: 0.9125 - val_loss: 2.1554 - val_accuracy: 0.6814\n",
      "Epoch 49/100\n",
      "159/159 [==============================] - 73s 460ms/step - loss: 0.2661 - accuracy: 0.9164 - val_loss: 2.1636 - val_accuracy: 0.6781\n",
      "Epoch 50/100\n",
      "159/159 [==============================] - 71s 446ms/step - loss: 0.2577 - accuracy: 0.9196 - val_loss: 2.2011 - val_accuracy: 0.6785\n",
      "Epoch 51/100\n",
      "159/159 [==============================] - 71s 448ms/step - loss: 0.2519 - accuracy: 0.9222 - val_loss: 2.2413 - val_accuracy: 0.6804\n",
      "Epoch 52/100\n",
      "159/159 [==============================] - 71s 446ms/step - loss: 0.2465 - accuracy: 0.9215 - val_loss: 2.2597 - val_accuracy: 0.6778\n",
      "Epoch 53/100\n",
      "159/159 [==============================] - 75s 473ms/step - loss: 0.2499 - accuracy: 0.9211 - val_loss: 2.2210 - val_accuracy: 0.6837\n",
      "Epoch 54/100\n",
      "159/159 [==============================] - 74s 466ms/step - loss: 0.2475 - accuracy: 0.9215 - val_loss: 2.2596 - val_accuracy: 0.6833\n",
      "Epoch 55/100\n",
      "159/159 [==============================] - 71s 447ms/step - loss: 0.2331 - accuracy: 0.9257 - val_loss: 2.2686 - val_accuracy: 0.6846\n",
      "Epoch 56/100\n",
      "159/159 [==============================] - 72s 450ms/step - loss: 0.2298 - accuracy: 0.9283 - val_loss: 2.2670 - val_accuracy: 0.6864\n",
      "Epoch 57/100\n",
      "159/159 [==============================] - 70s 443ms/step - loss: 0.2249 - accuracy: 0.9287 - val_loss: 2.3085 - val_accuracy: 0.6797\n",
      "Epoch 58/100\n",
      "159/159 [==============================] - 71s 444ms/step - loss: 0.2131 - accuracy: 0.9324 - val_loss: 2.2824 - val_accuracy: 0.6877\n",
      "Epoch 59/100\n",
      "159/159 [==============================] - 71s 449ms/step - loss: 0.2104 - accuracy: 0.9352 - val_loss: 2.3017 - val_accuracy: 0.6827\n",
      "Epoch 60/100\n",
      "159/159 [==============================] - 71s 446ms/step - loss: 0.2146 - accuracy: 0.9328 - val_loss: 2.3041 - val_accuracy: 0.6881\n",
      "Epoch 61/100\n",
      "159/159 [==============================] - 71s 448ms/step - loss: 0.1992 - accuracy: 0.9365 - val_loss: 2.3374 - val_accuracy: 0.6862\n",
      "Epoch 62/100\n",
      "159/159 [==============================] - 72s 450ms/step - loss: 0.2029 - accuracy: 0.9365 - val_loss: 2.3501 - val_accuracy: 0.6871\n",
      "Epoch 63/100\n",
      "159/159 [==============================] - 71s 448ms/step - loss: 0.2071 - accuracy: 0.9362 - val_loss: 2.3613 - val_accuracy: 0.6883\n",
      "Epoch 64/100\n",
      "159/159 [==============================] - 71s 450ms/step - loss: 0.2057 - accuracy: 0.9341 - val_loss: 2.3525 - val_accuracy: 0.6908\n",
      "Epoch 65/100\n",
      "159/159 [==============================] - 72s 453ms/step - loss: 0.1908 - accuracy: 0.9389 - val_loss: 2.3733 - val_accuracy: 0.6923\n",
      "Epoch 66/100\n",
      "159/159 [==============================] - 73s 457ms/step - loss: 0.1993 - accuracy: 0.9379 - val_loss: 2.3600 - val_accuracy: 0.6898\n",
      "Epoch 67/100\n",
      "159/159 [==============================] - 72s 453ms/step - loss: 0.1836 - accuracy: 0.9416 - val_loss: 2.3884 - val_accuracy: 0.6877\n",
      "Epoch 68/100\n",
      "159/159 [==============================] - 72s 450ms/step - loss: 0.1831 - accuracy: 0.9439 - val_loss: 2.3982 - val_accuracy: 0.6858\n",
      "Epoch 69/100\n",
      "159/159 [==============================] - 72s 452ms/step - loss: 0.1830 - accuracy: 0.9416 - val_loss: 2.3712 - val_accuracy: 0.6917\n",
      "Epoch 70/100\n",
      "159/159 [==============================] - 72s 454ms/step - loss: 0.1761 - accuracy: 0.9445 - val_loss: 2.4438 - val_accuracy: 0.6877\n",
      "Epoch 71/100\n",
      "159/159 [==============================] - 72s 453ms/step - loss: 0.1875 - accuracy: 0.9383 - val_loss: 2.4313 - val_accuracy: 0.6875\n",
      "Epoch 72/100\n",
      "159/159 [==============================] - 72s 451ms/step - loss: 0.1882 - accuracy: 0.9396 - val_loss: 2.4666 - val_accuracy: 0.6875\n",
      "Epoch 73/100\n",
      "159/159 [==============================] - 76s 478ms/step - loss: 0.1819 - accuracy: 0.9426 - val_loss: 2.4640 - val_accuracy: 0.6892\n",
      "Epoch 74/100\n",
      "159/159 [==============================] - 108s 682ms/step - loss: 0.1660 - accuracy: 0.9469 - val_loss: 2.4614 - val_accuracy: 0.6890\n",
      "Epoch 75/100\n",
      "159/159 [==============================] - 109s 686ms/step - loss: 0.1830 - accuracy: 0.9400 - val_loss: 2.4757 - val_accuracy: 0.6915\n",
      "Epoch 76/100\n",
      "159/159 [==============================] - 109s 683ms/step - loss: 0.1674 - accuracy: 0.9465 - val_loss: 2.4633 - val_accuracy: 0.6898\n",
      "Epoch 77/100\n",
      "159/159 [==============================] - 108s 678ms/step - loss: 0.1729 - accuracy: 0.9445 - val_loss: 2.4703 - val_accuracy: 0.6850\n",
      "Epoch 78/100\n",
      "159/159 [==============================] - 108s 679ms/step - loss: 0.1823 - accuracy: 0.9408 - val_loss: 2.4615 - val_accuracy: 0.6873\n",
      "Epoch 79/100\n",
      "159/159 [==============================] - 110s 693ms/step - loss: 0.1639 - accuracy: 0.9477 - val_loss: 2.4938 - val_accuracy: 0.6892\n",
      "Epoch 80/100\n",
      "159/159 [==============================] - 111s 700ms/step - loss: 0.1700 - accuracy: 0.9450 - val_loss: 2.5237 - val_accuracy: 0.6900\n",
      "Epoch 81/100\n",
      "159/159 [==============================] - 109s 683ms/step - loss: 0.1573 - accuracy: 0.9479 - val_loss: 2.5176 - val_accuracy: 0.6858\n",
      "Epoch 82/100\n",
      "159/159 [==============================] - 109s 684ms/step - loss: 0.1521 - accuracy: 0.9523 - val_loss: 2.5078 - val_accuracy: 0.6957\n",
      "Epoch 83/100\n",
      "159/159 [==============================] - 110s 690ms/step - loss: 0.1636 - accuracy: 0.9482 - val_loss: 2.5089 - val_accuracy: 0.6957\n",
      "Epoch 84/100\n",
      "159/159 [==============================] - 108s 681ms/step - loss: 0.1618 - accuracy: 0.9488 - val_loss: 2.5422 - val_accuracy: 0.6921\n",
      "Epoch 85/100\n",
      "159/159 [==============================] - 108s 678ms/step - loss: 0.1650 - accuracy: 0.9479 - val_loss: 2.5300 - val_accuracy: 0.6921\n",
      "Epoch 86/100\n",
      "159/159 [==============================] - 108s 682ms/step - loss: 0.1452 - accuracy: 0.9558 - val_loss: 2.5354 - val_accuracy: 0.6963\n",
      "Epoch 87/100\n",
      "159/159 [==============================] - 109s 687ms/step - loss: 0.1543 - accuracy: 0.9505 - val_loss: 2.5316 - val_accuracy: 0.6952\n",
      "Epoch 88/100\n",
      "159/159 [==============================] - 110s 690ms/step - loss: 0.1456 - accuracy: 0.9521 - val_loss: 2.5415 - val_accuracy: 0.6936\n",
      "Epoch 89/100\n",
      "159/159 [==============================] - 107s 676ms/step - loss: 0.1468 - accuracy: 0.9536 - val_loss: 2.5706 - val_accuracy: 0.6961\n",
      "Epoch 90/100\n",
      "159/159 [==============================] - 110s 690ms/step - loss: 0.1455 - accuracy: 0.9535 - val_loss: 2.5549 - val_accuracy: 0.6925\n",
      "Epoch 91/100\n",
      "159/159 [==============================] - 108s 681ms/step - loss: 0.1554 - accuracy: 0.9503 - val_loss: 2.5622 - val_accuracy: 0.6955\n",
      "Epoch 92/100\n",
      "159/159 [==============================] - 109s 683ms/step - loss: 0.1486 - accuracy: 0.9525 - val_loss: 2.5686 - val_accuracy: 0.6944\n",
      "Epoch 93/100\n",
      "159/159 [==============================] - 108s 681ms/step - loss: 0.1415 - accuracy: 0.9561 - val_loss: 2.5733 - val_accuracy: 0.6927\n",
      "Epoch 94/100\n",
      "159/159 [==============================] - 109s 684ms/step - loss: 0.1450 - accuracy: 0.9546 - val_loss: 2.5875 - val_accuracy: 0.6879\n",
      "Epoch 95/100\n",
      "159/159 [==============================] - 109s 683ms/step - loss: 0.1399 - accuracy: 0.9548 - val_loss: 2.5917 - val_accuracy: 0.6917\n",
      "Epoch 96/100\n",
      "159/159 [==============================] - 108s 683ms/step - loss: 0.1459 - accuracy: 0.9549 - val_loss: 2.5889 - val_accuracy: 0.6919\n",
      "Epoch 97/100\n",
      "159/159 [==============================] - 111s 701ms/step - loss: 0.1416 - accuracy: 0.9557 - val_loss: 2.6261 - val_accuracy: 0.6934\n",
      "Epoch 98/100\n",
      "159/159 [==============================] - 110s 690ms/step - loss: 0.1474 - accuracy: 0.9526 - val_loss: 2.6129 - val_accuracy: 0.6883\n",
      "Epoch 99/100\n",
      "159/159 [==============================] - 109s 687ms/step - loss: 0.1565 - accuracy: 0.9498 - val_loss: 2.5996 - val_accuracy: 0.6896\n",
      "Epoch 100/100\n",
      "159/159 [==============================] - 108s 681ms/step - loss: 0.1506 - accuracy: 0.9520 - val_loss: 2.6058 - val_accuracy: 0.6927\n"
     ]
    },
    {
     "data": {
      "text/plain": [
       "<keras.callbacks.History at 0x2819ea49bb0>"
      ]
     },
     "execution_count": 20,
     "metadata": {},
     "output_type": "execute_result"
    }
   ],
   "source": [
    "model.fit(x_train,y_train,batch_size = 120,epochs = 100,validation_data=(x_test,y_test))"
   ]
  },
  {
   "cell_type": "markdown",
   "id": "e5930d26",
   "metadata": {},
   "source": [
    "## SAVE THE MODEL FOR PREDICTION"
   ]
  },
  {
   "cell_type": "code",
   "execution_count": 26,
   "id": "ed91f34b",
   "metadata": {},
   "outputs": [],
   "source": [
    "model.save(\"PREDICTEDMODEL.h5\")\n"
   ]
  },
  {
   "cell_type": "markdown",
   "id": "0eb347d7",
   "metadata": {},
   "source": [
    "## LOAD THE MODEL FOR PREDICTIONS"
   ]
  },
  {
   "cell_type": "code",
   "execution_count": 29,
   "id": "7929c99e",
   "metadata": {},
   "outputs": [
    {
     "name": "stdout",
     "output_type": "stream",
     "text": [
      "1/1 [==============================] - 2s 2s/step\n",
      "1/1 [==============================] - 2s 2s/step\n",
      "1/1 [==============================] - 0s 49ms/step\n",
      "1/1 [==============================] - 0s 65ms/step\n",
      "1/1 [==============================] - 0s 61ms/step\n",
      "1/1 [==============================] - 0s 61ms/step\n",
      "1/1 [==============================] - 0s 62ms/step\n",
      "1/1 [==============================] - 0s 57ms/step\n",
      "1/1 [==============================] - 0s 59ms/step\n",
      "1/1 [==============================] - 0s 59ms/step\n",
      "1/1 [==============================] - 0s 50ms/step\n",
      "1/1 [==============================] - 0s 83ms/step\n",
      "1/1 [==============================] - 0s 60ms/step\n",
      "1/1 [==============================] - 0s 58ms/step\n",
      "1/1 [==============================] - 0s 60ms/step\n",
      "1/1 [==============================] - 0s 57ms/step\n",
      "1/1 [==============================] - 0s 58ms/step\n",
      "1/1 [==============================] - 0s 55ms/step\n",
      "1/1 [==============================] - 0s 48ms/step\n",
      "1/1 [==============================] - 0s 44ms/step\n",
      "1/1 [==============================] - 0s 70ms/step\n",
      "1/1 [==============================] - 0s 64ms/step\n",
      "1/1 [==============================] - 0s 57ms/step\n",
      "1/1 [==============================] - 0s 49ms/step\n",
      "1/1 [==============================] - 0s 69ms/step\n",
      "1/1 [==============================] - 0s 51ms/step\n",
      "1/1 [==============================] - 0s 47ms/step\n",
      "1/1 [==============================] - 0s 49ms/step\n",
      "1/1 [==============================] - 0s 84ms/step\n",
      "1/1 [==============================] - 0s 56ms/step\n",
      "1/1 [==============================] - 0s 57ms/step\n",
      "1/1 [==============================] - 0s 48ms/step\n",
      "1/1 [==============================] - 0s 48ms/step\n",
      "1/1 [==============================] - 0s 56ms/step\n",
      "1/1 [==============================] - 0s 64ms/step\n",
      "1/1 [==============================] - 0s 78ms/step\n",
      "1/1 [==============================] - 0s 48ms/step\n",
      "1/1 [==============================] - 0s 50ms/step\n",
      "1/1 [==============================] - 0s 51ms/step\n",
      "1/1 [==============================] - 0s 105ms/step\n",
      "1/1 [==============================] - 0s 56ms/step\n",
      "1/1 [==============================] - 0s 59ms/step\n",
      "1/1 [==============================] - 0s 79ms/step\n",
      "1/1 [==============================] - 0s 56ms/step\n",
      "1/1 [==============================] - 0s 49ms/step\n",
      "1/1 [==============================] - 0s 66ms/step\n",
      "1/1 [==============================] - 0s 98ms/step\n",
      "1/1 [==============================] - 0s 81ms/step\n",
      "1/1 [==============================] - 0s 63ms/step\n",
      "1/1 [==============================] - 0s 73ms/step\n",
      "1/1 [==============================] - 0s 71ms/step\n",
      "1/1 [==============================] - 0s 54ms/step\n",
      "1/1 [==============================] - 0s 43ms/step\n",
      "1/1 [==============================] - 0s 52ms/step\n",
      "1/1 [==============================] - 0s 84ms/step\n",
      "1/1 [==============================] - 0s 56ms/step\n",
      "1/1 [==============================] - 0s 65ms/step\n",
      "1/1 [==============================] - 0s 65ms/step\n",
      "1/1 [==============================] - 0s 53ms/step\n",
      "1/1 [==============================] - 0s 49ms/step\n",
      "1/1 [==============================] - 0s 51ms/step\n",
      "1/1 [==============================] - 0s 50ms/step\n",
      "1/1 [==============================] - 0s 51ms/step\n",
      "1/1 [==============================] - 0s 48ms/step\n",
      "1/1 [==============================] - 0s 49ms/step\n",
      "1/1 [==============================] - 0s 40ms/step\n",
      "1/1 [==============================] - 0s 51ms/step\n",
      "1/1 [==============================] - 0s 56ms/step\n",
      "1/1 [==============================] - 0s 121ms/step\n",
      "1/1 [==============================] - 0s 161ms/step\n",
      "1/1 [==============================] - 0s 73ms/step\n",
      "1/1 [==============================] - 0s 66ms/step\n",
      "1/1 [==============================] - 0s 50ms/step\n",
      "1/1 [==============================] - 0s 41ms/step\n",
      "1/1 [==============================] - 0s 50ms/step\n",
      "1/1 [==============================] - 0s 56ms/step\n",
      "1/1 [==============================] - 0s 48ms/step\n",
      "1/1 [==============================] - 0s 49ms/step\n",
      "1/1 [==============================] - 0s 50ms/step\n",
      "1/1 [==============================] - 0s 48ms/step\n",
      "1/1 [==============================] - 0s 42ms/step\n",
      "1/1 [==============================] - 0s 48ms/step\n",
      "1/1 [==============================] - 0s 50ms/step\n",
      "1/1 [==============================] - 0s 47ms/step\n",
      "1/1 [==============================] - 0s 50ms/step\n",
      "1/1 [==============================] - 0s 49ms/step\n",
      "1/1 [==============================] - 0s 102ms/step\n",
      "1/1 [==============================] - 0s 62ms/step\n",
      "1/1 [==============================] - 0s 58ms/step\n",
      "1/1 [==============================] - 0s 48ms/step\n",
      "1/1 [==============================] - 0s 54ms/step\n",
      "1/1 [==============================] - 0s 67ms/step\n",
      "1/1 [==============================] - 0s 58ms/step\n",
      "1/1 [==============================] - 0s 127ms/step\n",
      "1/1 [==============================] - 0s 63ms/step\n",
      "1/1 [==============================] - 0s 42ms/step\n",
      "1/1 [==============================] - 0s 80ms/step\n",
      "1/1 [==============================] - 0s 52ms/step\n",
      "1/1 [==============================] - 0s 76ms/step\n",
      "1/1 [==============================] - 0s 49ms/step\n",
      "1/1 [==============================] - 0s 67ms/step\n",
      "1/1 [==============================] - 0s 49ms/step\n",
      "1/1 [==============================] - 0s 63ms/step\n",
      "1/1 [==============================] - 0s 82ms/step\n",
      "1/1 [==============================] - 0s 48ms/step\n",
      "1/1 [==============================] - 0s 80ms/step\n",
      "1/1 [==============================] - 0s 58ms/step\n",
      "1/1 [==============================] - 0s 57ms/step\n",
      "1/1 [==============================] - 0s 63ms/step\n",
      "1/1 [==============================] - 0s 48ms/step\n",
      "1/1 [==============================] - 0s 44ms/step\n",
      "1/1 [==============================] - 0s 48ms/step\n",
      "1/1 [==============================] - 0s 61ms/step\n",
      "1/1 [==============================] - 0s 51ms/step\n",
      "1/1 [==============================] - 0s 59ms/step\n",
      "1/1 [==============================] - 0s 49ms/step\n",
      "1/1 [==============================] - 0s 55ms/step\n",
      "1/1 [==============================] - 0s 55ms/step\n",
      "1/1 [==============================] - 0s 58ms/step\n",
      "1/1 [==============================] - 0s 49ms/step\n",
      "1/1 [==============================] - 0s 50ms/step\n",
      "1/1 [==============================] - 0s 49ms/step\n",
      "1/1 [==============================] - 0s 58ms/step\n",
      "1/1 [==============================] - 0s 76ms/step\n",
      "1/1 [==============================] - 0s 65ms/step\n",
      "1/1 [==============================] - 0s 67ms/step\n",
      "1/1 [==============================] - 0s 52ms/step\n",
      "1/1 [==============================] - 0s 49ms/step\n",
      "1/1 [==============================] - 0s 43ms/step\n",
      "1/1 [==============================] - 0s 57ms/step\n",
      "1/1 [==============================] - 0s 70ms/step\n",
      "1/1 [==============================] - 0s 58ms/step\n",
      "1/1 [==============================] - 0s 57ms/step\n",
      "1/1 [==============================] - 0s 59ms/step\n",
      "1/1 [==============================] - 0s 60ms/step\n",
      "1/1 [==============================] - 0s 53ms/step\n",
      "1/1 [==============================] - 0s 65ms/step\n",
      "1/1 [==============================] - 0s 50ms/step\n",
      "1/1 [==============================] - 0s 59ms/step\n",
      "1/1 [==============================] - 0s 61ms/step\n",
      "1/1 [==============================] - 0s 133ms/step\n",
      "1/1 [==============================] - 0s 64ms/step\n",
      "1/1 [==============================] - 0s 55ms/step\n",
      "1/1 [==============================] - 0s 107ms/step\n",
      "1/1 [==============================] - 0s 89ms/step\n",
      "1/1 [==============================] - 0s 93ms/step\n",
      "1/1 [==============================] - 0s 85ms/step\n",
      "1/1 [==============================] - 0s 90ms/step\n",
      "1/1 [==============================] - 0s 91ms/step\n",
      "1/1 [==============================] - 0s 63ms/step\n",
      "1/1 [==============================] - 0s 50ms/step\n",
      "1/1 [==============================] - 0s 70ms/step\n",
      "1/1 [==============================] - 0s 99ms/step\n",
      "1/1 [==============================] - 0s 95ms/step\n",
      "1/1 [==============================] - 0s 65ms/step\n",
      "1/1 [==============================] - 0s 88ms/step\n",
      "1/1 [==============================] - 0s 42ms/step\n",
      "1/1 [==============================] - 0s 47ms/step\n",
      "1/1 [==============================] - 0s 57ms/step\n",
      "1/1 [==============================] - 0s 48ms/step\n",
      "1/1 [==============================] - 0s 58ms/step\n",
      "1/1 [==============================] - 0s 47ms/step\n",
      "1/1 [==============================] - 0s 49ms/step\n",
      "1/1 [==============================] - 0s 59ms/step\n",
      "1/1 [==============================] - 0s 50ms/step\n",
      "1/1 [==============================] - 0s 50ms/step\n",
      "1/1 [==============================] - 0s 52ms/step\n",
      "1/1 [==============================] - 0s 49ms/step\n",
      "1/1 [==============================] - 0s 48ms/step\n",
      "1/1 [==============================] - 0s 50ms/step\n",
      "1/1 [==============================] - 0s 49ms/step\n",
      "1/1 [==============================] - 0s 47ms/step\n",
      "1/1 [==============================] - 0s 47ms/step\n",
      "1/1 [==============================] - 0s 41ms/step\n",
      "1/1 [==============================] - 0s 48ms/step\n",
      "1/1 [==============================] - 0s 48ms/step\n",
      "1/1 [==============================] - 0s 50ms/step\n",
      "1/1 [==============================] - 0s 47ms/step\n",
      "1/1 [==============================] - 0s 40ms/step\n",
      "1/1 [==============================] - 0s 54ms/step\n",
      "1/1 [==============================] - 0s 59ms/step\n",
      "1/1 [==============================] - 0s 64ms/step\n",
      "1/1 [==============================] - 0s 47ms/step\n",
      "1/1 [==============================] - 0s 57ms/step\n",
      "1/1 [==============================] - 0s 61ms/step\n",
      "1/1 [==============================] - 0s 48ms/step\n",
      "1/1 [==============================] - 0s 47ms/step\n",
      "1/1 [==============================] - 0s 49ms/step\n",
      "1/1 [==============================] - 0s 49ms/step\n",
      "1/1 [==============================] - 0s 51ms/step\n",
      "1/1 [==============================] - 0s 53ms/step\n",
      "1/1 [==============================] - 0s 62ms/step\n",
      "1/1 [==============================] - 0s 50ms/step\n",
      "1/1 [==============================] - 0s 59ms/step\n",
      "1/1 [==============================] - 0s 53ms/step\n",
      "1/1 [==============================] - 0s 48ms/step\n",
      "1/1 [==============================] - 0s 56ms/step\n",
      "1/1 [==============================] - 0s 48ms/step\n",
      "1/1 [==============================] - 0s 40ms/step\n",
      "1/1 [==============================] - 0s 64ms/step\n"
     ]
    }
   ],
   "source": [
    "model = load_model(\"PREDICTEDMODEL.h5\")\n",
    "index = np.random.randint(0,len(x_test)-1)\n",
    "music_pattern = x_test[index]\n",
    "\n",
    "# STORNG THE PREDICTED NOTES IN OUTPUT\n",
    "out_pred=[] \n",
    "for i in range(200):\n",
    "    music_pattern = music_pattern.reshape(1,len(music_pattern),1)\n",
    "    pred_index = np.argmax(model.predict(music_pattern))\n",
    "    out_pred.append(Index_Notes[pred_index])\n",
    "    music_pattern = np.append(music_pattern,pred_index)\n",
    "    music_pattern = music_pattern[1:]"
   ]
  },
  {
   "cell_type": "markdown",
   "id": "9c505ef4",
   "metadata": {},
   "source": [
    "## CONVERT PREDICTED NOTES INTO MIDI MUSIC FILE"
   ]
  },
  {
   "cell_type": "code",
   "execution_count": 30,
   "id": "42b4dc76",
   "metadata": {},
   "outputs": [],
   "source": [
    "output_notes = []\n",
    "\n",
    "for offset,pattern in enumerate(out_pred):\n",
    "    if ('.' in pattern) or pattern.isdigit():\n",
    "        notes_in_chord = pattern.split('.')\n",
    "        notes = []\n",
    "        \n",
    "        for current_note in notes_in_chord:\n",
    "            i_curr_note=int(current_note)\n",
    "            new_note = note.Note(i_curr_note)\n",
    "            new_note.storedInstrument = instrument.Piano()\n",
    "            notes.append(new_note)\n",
    "            new_chord = chord.Chord(notes)\n",
    "            new_chord.offset = offset\n",
    "            output_notes.append(new_chord)\n",
    "    else:\n",
    "        new_note = note.Note(pattern)\n",
    "        new_note.offset = offset\n",
    "        new_note.storedInstrument = instrument.Piano()\n",
    "        output_notes.append(new_note)\n",
    "        midi_stream = stream.Stream(output_notes)\n",
    "        midi_stream.write('midi', fp='PREDICTED_MUSIC.mid')"
   ]
  }
 ],
 "metadata": {
  "kernelspec": {
   "display_name": "Python 3 (ipykernel)",
   "language": "python",
   "name": "python3"
  },
  "language_info": {
   "codemirror_mode": {
    "name": "ipython",
    "version": 3
   },
   "file_extension": ".py",
   "mimetype": "text/x-python",
   "name": "python",
   "nbconvert_exporter": "python",
   "pygments_lexer": "ipython3",
   "version": "3.9.12"
  }
 },
 "nbformat": 4,
 "nbformat_minor": 5
}
